{
 "cells": [
  {
   "cell_type": "code",
   "execution_count": 1,
   "id": "e515d4fd",
   "metadata": {},
   "outputs": [
    {
     "name": "stderr",
     "output_type": "stream",
     "text": [
      "/mnt/home/djin/miniconda3/envs/catvae/lib/python3.9/site-packages/catvae/models/batch_classifier.py:7: UserWarning: q2_sample_classifier not installed.\n",
      "  warnings.warn('q2_sample_classifier not installed.')\n"
     ]
    },
    {
     "data": {
      "text/plain": [
       "'1.10.2'"
      ]
     },
     "execution_count": 1,
     "metadata": {},
     "output_type": "execute_result"
    }
   ],
   "source": [
    "import os\n",
    "import shutil\n",
    "import unittest\n",
    "from catvae.trainer import MultVAE, BiomDataModule\n",
    "from catvae.sim import multinomial_bioms\n",
    "from biom import Table\n",
    "from biom.util import biom_open\n",
    "import numpy as np\n",
    "from pytorch_lightning import Trainer\n",
    "import argparse\n",
    "import seaborn as sns\n",
    "import torch\n",
    "torch.__version__"
   ]
  },
  {
   "cell_type": "code",
   "execution_count": 2,
   "id": "ccbcee16",
   "metadata": {},
   "outputs": [
    {
     "data": {
      "text/plain": [
       "'basis.nwk'"
      ]
     },
     "execution_count": 2,
     "metadata": {},
     "output_type": "execute_result"
    }
   ],
   "source": [
    "np.random.seed(0)\n",
    "k, D, N = 10, 50, 1000\n",
    "sims = multinomial_bioms(k=k, D=D, N=N, M=50000, sigma_sq=0.005)\n",
    "Y = sims['Y']\n",
    "parts = Y.shape[0] // 10\n",
    "samp_ids = list(map(str, range(Y.shape[0])))\n",
    "obs_ids = list(map(str, range(Y.shape[1])))\n",
    "train = Table(Y[:parts * 8].T, obs_ids, samp_ids[:parts * 8])\n",
    "test = Table(Y[parts * 8 : parts * 9].T,\n",
    "             obs_ids, samp_ids[parts * 8 : parts * 9])\n",
    "valid = Table(Y[parts * 9:].T, obs_ids, samp_ids[parts * 9:])\n",
    "tree = sims\n",
    "\n",
    "with biom_open('train.biom', 'w') as f:\n",
    "    train.to_hdf5(f, 'train')\n",
    "with biom_open('test.biom', 'w') as f:\n",
    "    test.to_hdf5(f, 'test')\n",
    "with biom_open('valid.biom', 'w') as f:\n",
    "    valid.to_hdf5(f, 'valid')\n",
    "    \n",
    "sims['tree'].write('basis.nwk')"
   ]
  },
  {
   "cell_type": "code",
   "execution_count": 3,
   "id": "8b46f048",
   "metadata": {},
   "outputs": [
    {
     "name": "stderr",
     "output_type": "stream",
     "text": [
      "/mnt/home/djin/miniconda3/envs/catvae/lib/python3.9/site-packages/geotorch/so.py:122: UserWarning: torch.qr is deprecated in favor of torch.linalg.qr and will be removed in a future PyTorch release.\n",
      "The boolean parameter 'some' has been replaced with a string parameter 'mode'.\n",
      "Q, R = torch.qr(A, some)\n",
      "should be replaced with\n",
      "Q, R = torch.linalg.qr(A, 'reduced' if some else 'complete') (Triggered internally at  /opt/conda/conda-bld/pytorch_1640811793227/work/aten/src/ATen/native/BatchLinearAlgebra.cpp:1937.)\n",
      "  q, r = torch.qr(x)\n",
      "GPU available: True, used: True\n",
      "TPU available: False, using: 0 TPU cores\n",
      "IPU available: False, using: 0 IPUs\n",
      "LOCAL_RANK: 0 - CUDA_VISIBLE_DEVICES: [0]\n",
      "Set SLURM handle signals.\n",
      "\n",
      "  | Name | Type         | Params\n",
      "--------------------------------------\n",
      "0 | vae  | LinearDLRVAE | 1.2 K \n",
      "--------------------------------------\n",
      "1.2 K     Trainable params\n",
      "0         Non-trainable params\n",
      "1.2 K     Total params\n",
      "0.005     Total estimated model params size (MB)\n"
     ]
    },
    {
     "name": "stdout",
     "output_type": "stream",
     "text": [
      "Validation sanity check:   0%|          | 0/2 [00:00<?, ?it/s]"
     ]
    },
    {
     "name": "stderr",
     "output_type": "stream",
     "text": [
      "/mnt/home/djin/miniconda3/envs/catvae/lib/python3.9/site-packages/pytorch_lightning/trainer/data_loading.py:132: UserWarning: The dataloader, val_dataloader 0, does not have many workers which may be a bottleneck. Consider increasing the value of the `num_workers` argument` (try 28 which is the number of cpus on this machine) in the `DataLoader` init to improve performance.\n",
      "  rank_zero_warn(\n"
     ]
    },
    {
     "name": "stdout",
     "output_type": "stream",
     "text": [
      "                                                                      "
     ]
    },
    {
     "name": "stderr",
     "output_type": "stream",
     "text": [
      "/mnt/home/djin/miniconda3/envs/catvae/lib/python3.9/site-packages/pytorch_lightning/trainer/data_loading.py:132: UserWarning: The dataloader, train_dataloader, does not have many workers which may be a bottleneck. Consider increasing the value of the `num_workers` argument` (try 28 which is the number of cpus on this machine) in the `DataLoader` init to improve performance.\n",
      "  rank_zero_warn(\n",
      "/mnt/home/djin/miniconda3/envs/catvae/lib/python3.9/site-packages/pytorch_lightning/trainer/data_loading.py:432: UserWarning: The number of training samples (16) is smaller than the logging interval Trainer(log_every_n_steps=50). Set a lower value for log_every_n_steps if you want to see logs for the training epoch.\n",
      "  rank_zero_warn(\n"
     ]
    },
    {
     "name": "stdout",
     "output_type": "stream",
     "text": [
      "Epoch 0:  25%|██▌       | 4/16 [00:00<00:00, 21.91it/s, loss=7.51e+04, v_num=1283331]"
     ]
    },
    {
     "name": "stderr",
     "output_type": "stream",
     "text": [
      "/mnt/home/djin/miniconda3/envs/catvae/lib/python3.9/site-packages/pytorch_lightning/loops/optimization/closure.py:35: LightningDeprecationWarning: One of the returned values {'log'} has a `grad_fn`. We will detach it automatically but this behaviour will change in v1.6. Please detach it manually: `return {'loss': ..., 'something': something.detach()}`\n",
      "  rank_zero_deprecation(\n"
     ]
    },
    {
     "name": "stdout",
     "output_type": "stream",
     "text": [
      "Epoch 9:  89%|████████▉ | 16/18 [00:00<00:00, 38.18it/s, loss=7.14e+03, v_num=1283331]\n",
      "Validating: 0it [00:00, ?it/s]\u001b[A\n",
      "Epoch 9: 100%|██████████| 18/18 [00:00<00:00, 35.26it/s, loss=7.14e+03, v_num=1283331]\n",
      "Epoch 9: 100%|██████████| 18/18 [00:00<00:00, 31.55it/s, loss=7.14e+03, v_num=1283331]\n",
      "Epoch 19:  89%|████████▉ | 16/18 [00:00<00:00, 38.06it/s, loss=4.58e+03, v_num=1283331]\n",
      "Validating: 0it [00:00, ?it/s]\u001b[A\n",
      "Epoch 19: 100%|██████████| 18/18 [00:00<00:00, 35.13it/s, loss=4.58e+03, v_num=1283331]\n",
      "Epoch 19: 100%|██████████| 18/18 [00:00<00:00, 31.47it/s, loss=4.58e+03, v_num=1283331]\n",
      "Epoch 29:  89%|████████▉ | 16/18 [00:00<00:00, 38.06it/s, loss=1.93e+03, v_num=1283331]\n",
      "Validating: 0it [00:00, ?it/s]\u001b[A\n",
      "Epoch 29: 100%|██████████| 18/18 [00:00<00:00, 35.05it/s, loss=1.93e+03, v_num=1283331]\n",
      "Epoch 29: 100%|██████████| 18/18 [00:00<00:00, 31.37it/s, loss=1.93e+03, v_num=1283331]\n",
      "Epoch 39:  89%|████████▉ | 16/18 [00:00<00:00, 37.91it/s, loss=1.9e+03, v_num=1283331] \n",
      "Validating: 0it [00:00, ?it/s]\u001b[A\n",
      "Epoch 39: 100%|██████████| 18/18 [00:00<00:00, 35.06it/s, loss=1.9e+03, v_num=1283331]\n",
      "Epoch 39: 100%|██████████| 18/18 [00:00<00:00, 31.34it/s, loss=1.9e+03, v_num=1283331]\n",
      "Epoch 49:  89%|████████▉ | 16/18 [00:00<00:00, 38.00it/s, loss=1.09e+03, v_num=1283331]\n",
      "Validating: 0it [00:00, ?it/s]\u001b[A\n",
      "Epoch 49: 100%|██████████| 18/18 [00:00<00:00, 35.08it/s, loss=1.09e+03, v_num=1283331]\n",
      "Epoch 49: 100%|██████████| 18/18 [00:00<00:00, 31.39it/s, loss=1.09e+03, v_num=1283331]\n",
      "Epoch 59:  89%|████████▉ | 16/18 [00:00<00:00, 37.99it/s, loss=1.2e+03, v_num=1283331] \n",
      "Validating: 0it [00:00, ?it/s]\u001b[A\n",
      "Epoch 59: 100%|██████████| 18/18 [00:00<00:00, 35.06it/s, loss=1.2e+03, v_num=1283331]\n",
      "Epoch 59: 100%|██████████| 18/18 [00:00<00:00, 31.37it/s, loss=1.2e+03, v_num=1283331]\n",
      "Epoch 69:  89%|████████▉ | 16/18 [00:00<00:00, 37.93it/s, loss=772, v_num=1283331]     \n",
      "Validating: 0it [00:00, ?it/s]\u001b[A\n",
      "Epoch 69: 100%|██████████| 18/18 [00:00<00:00, 34.92it/s, loss=772, v_num=1283331]\n",
      "Epoch 69: 100%|██████████| 18/18 [00:00<00:00, 31.26it/s, loss=772, v_num=1283331]\n",
      "Epoch 79:  89%|████████▉ | 16/18 [00:00<00:00, 38.00it/s, loss=1.07e+03, v_num=1283331]\n",
      "Validating: 0it [00:00, ?it/s]\u001b[A\n",
      "Epoch 79: 100%|██████████| 18/18 [00:00<00:00, 35.11it/s, loss=1.07e+03, v_num=1283331]\n",
      "Epoch 79: 100%|██████████| 18/18 [00:00<00:00, 31.40it/s, loss=1.07e+03, v_num=1283331]\n",
      "Epoch 89:  89%|████████▉ | 16/18 [00:00<00:00, 38.00it/s, loss=642, v_num=1283331]     \n",
      "Validating: 0it [00:00, ?it/s]\u001b[A\n",
      "Epoch 89: 100%|██████████| 18/18 [00:00<00:00, 35.09it/s, loss=642, v_num=1283331]\n",
      "Epoch 89: 100%|██████████| 18/18 [00:00<00:00, 31.39it/s, loss=642, v_num=1283331]\n",
      "Epoch 99:  89%|████████▉ | 16/18 [00:00<00:00, 38.00it/s, loss=923, v_num=1283331]\n",
      "Validating: 0it [00:00, ?it/s]\u001b[A\n",
      "Epoch 99: 100%|██████████| 18/18 [00:00<00:00, 35.11it/s, loss=923, v_num=1283331]\n",
      "Epoch 99: 100%|██████████| 18/18 [00:00<00:00, 31.42it/s, loss=923, v_num=1283331]\n",
      "Epoch 99: 100%|██████████| 18/18 [00:00<00:00, 30.07it/s, loss=923, v_num=1283331]\n"
     ]
    }
   ],
   "source": [
    "output_dir = 'output'\n",
    "model = MultVAE(n_input=D, n_latent=k,\n",
    "                n_hidden=k, basis='basis.nwk',\n",
    "                dropout=0., bias=True, batch_norm=False,\n",
    "                encoder_depth=1, learning_rate=0.1,\n",
    "                overdispersion=True,\n",
    "                scheduler='cosine', transform='pseudocount')\n",
    "dm = BiomDataModule('train.biom', 'test.biom', 'valid.biom',\n",
    "                    batch_size=50)\n",
    "\n",
    "trainer = Trainer(\n",
    "    max_epochs=100,\n",
    "    gpus=1, \n",
    "    check_val_every_n_epoch=10,\n",
    ")\n",
    "trainer.fit(model, dm)"
   ]
  },
  {
   "cell_type": "code",
   "execution_count": 4,
   "id": "2faf21e7",
   "metadata": {},
   "outputs": [
    {
     "data": {
      "text/html": [
       "\n",
       "      <iframe id=\"tensorboard-frame-49b6cde1ba6144d6\" width=\"100%\" height=\"800\" frameborder=\"0\">\n",
       "      </iframe>\n",
       "      <script>\n",
       "        (function() {\n",
       "          const frame = document.getElementById(\"tensorboard-frame-49b6cde1ba6144d6\");\n",
       "          const url = new URL(\"/\", window.location);\n",
       "          const port = 6006;\n",
       "          if (port) {\n",
       "            url.port = port;\n",
       "          }\n",
       "          frame.src = url;\n",
       "        })();\n",
       "      </script>\n",
       "    "
      ],
      "text/plain": [
       "<IPython.core.display.HTML object>"
      ]
     },
     "metadata": {},
     "output_type": "display_data"
    }
   ],
   "source": [
    "%load_ext tensorboard\n",
    "%tensorboard --logdir lightning_logs"
   ]
  },
  {
   "cell_type": "code",
   "execution_count": 5,
   "id": "860a2e1b",
   "metadata": {},
   "outputs": [
    {
     "data": {
      "text/plain": [
       "MultVAE(\n",
       "  (vae): LinearDLRVAE(\n",
       "    (encoder): Encoder(\n",
       "      (encoder): Linear(in_features=49, out_features=10, bias=True)\n",
       "    )\n",
       "    (decoder): ParametrizedLinear(\n",
       "      in_features=10, out_features=49, bias=True\n",
       "      (parametrizations): ModuleDict(\n",
       "        (weight): GrassmannianTall(n=49, k=10, triv=expm)\n",
       "      )\n",
       "    )\n",
       "    (sigma_net): Linear(in_features=11, out_features=10, bias=True)\n",
       "  )\n",
       ")"
      ]
     },
     "execution_count": 5,
     "metadata": {},
     "output_type": "execute_result"
    }
   ],
   "source": [
    "trainer.model"
   ]
  },
  {
   "cell_type": "code",
   "execution_count": 6,
   "id": "081b7f76",
   "metadata": {},
   "outputs": [
    {
     "name": "stdout",
     "output_type": "stream",
     "text": [
      "(0.87819667654801, 0.0)\n"
     ]
    },
    {
     "data": {
      "image/png": "[encoded data removed]",
      "text/plain": [
       "<Figure size 432x288 with 1 Axes>"
      ]
     },
     "metadata": {
      "needs_background": "light"
     },
     "output_type": "display_data"
    }
   ],
   "source": [
    "from scipy.stats import pearsonr\n",
    "import matplotlib.pyplot as plt\n",
    "from scipy.spatial.distance import pdist\n",
    "\n",
    "W = model.vae.decoder.weight.detach().cpu().numpy()\n",
    "\n",
    "d_estW = pdist(W)\n",
    "simW = sims['W'] / np.sqrt(sims['eigs'])\n",
    "dW = pdist(simW)\n",
    "\n",
    "plt.scatter(dW, d_estW, s=5)\n",
    "#plt.plot(np.linspace(0, 4), np.linspace(0, 4), 'r')\n",
    "plt.xlabel('Predicted correlations')\n",
    "plt.ylabel('Actual correlations')\n",
    "\n",
    "print(pearsonr(dW, d_estW))"
   ]
  },
  {
   "cell_type": "code",
   "execution_count": 7,
   "id": "a1424967",
   "metadata": {},
   "outputs": [
    {
     "data": {
      "text/plain": [
       "0.07071067811865475"
      ]
     },
     "execution_count": 7,
     "metadata": {},
     "output_type": "execute_result"
    }
   ],
   "source": [
    "sims['sigma']"
   ]
  },
  {
   "cell_type": "code",
   "execution_count": 8,
   "id": "e28b61fc",
   "metadata": {},
   "outputs": [
    {
     "data": {
      "text/plain": [
       "tensor([0.0763, 0.0830, 0.0804, 0.1205, 0.0817, 0.0475, 0.0551, 0.1350, 0.0851,\n",
       "        0.1178, 0.0965, 0.0492, 0.0560, 0.0721, 0.0748, 0.1299, 0.0651, 0.0969,\n",
       "        0.0479, 0.0794, 0.0499, 0.0491, 0.0497, 0.0566, 0.0797, 0.0667, 0.0865,\n",
       "        0.0681, 0.0499, 0.0581, 0.0644, 0.1586, 0.0998, 0.0590, 0.1121, 0.0793,\n",
       "        0.0598, 0.0797, 0.0669, 0.1162, 0.0383, 0.0803, 0.0884, 0.0501, 0.0546,\n",
       "        0.0561, 0.0752, 0.0547, 0.0786], grad_fn=<ExpBackward0>)"
      ]
     },
     "execution_count": 8,
     "metadata": {},
     "output_type": "execute_result"
    }
   ],
   "source": [
    "torch.exp(0.5 * model.vae.log_sigma_sq)"
   ]
  }
 ],
 "metadata": {
  "kernelspec": {
   "display_name": "Python 3 (ipykernel)",
   "language": "python",
   "name": "python3"
  },
  "language_info": {
   "codemirror_mode": {
    "name": "ipython",
    "version": 3
   },
   "file_extension": ".py",
   "mimetype": "text/x-python",
   "name": "python",
   "nbconvert_exporter": "python",
   "pygments_lexer": "ipython3",
   "version": "3.9.10"
  }
 },
 "nbformat": 4,
 "nbformat_minor": 5
}
